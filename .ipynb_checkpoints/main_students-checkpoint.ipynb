import pandas as pd
from sentence_transformers import SentenceTransformer, util

def main(query):
    # Cargar el dataset
    df = pd.read_csv('./IMDB top 1000.csv')
    print(df.head())  # Mostrar las primeras filas del DataFrame

    # Cargar el modelo de Sentence Transformer
    model = SentenceTransformer('sentence-transformers/all-MiniLM-L6-v2')

    # Crear embeddings para los títulos o descripciones (ajusta la columna según el dataset)
    embeddings = model.encode(df['Title'].tolist(), show_progress_bar=True)

    # Crear embeddings para la consulta
    query_embedding = model.encode(query)

    # Calcular la similitud coseno entre la consulta y los embeddings de los títulos
    similarities = util.cos_sim(query_embedding, embeddings)

    # Agregar la similitud al DataFrame
    df['similarity'] = similarities.flatten()

    # Ordenar el DataFrame por similitud
    df_sorted = df.sort_values(by='similarity', ascending=False)

    # Mostrar los 5 resultados más similares
    print("Resultados más similares:")
    print(df_sorted[['Title', 'similarity']].head())

if __name__ == '__main__':
    query = input('Ingresa el término de búsqueda: ')
    main(query)