{
 "cells": [
  {
   "cell_type": "code",
   "execution_count": null,
   "id": "20b0cca6-4715-472c-80fc-5c45512eaa7c",
   "metadata": {},
   "outputs": [],
   "source": [
    "import pandas as pd\n",
    "from sentence_transformers import SentenceTransformer, util\n",
    "\n",
    "def main(query):\n",
    "    # Cargar el dataset\n",
    "    df = pd.read_csv('./IMDB top 1000.csv')\n",
    "    print(df.head())  # Mostrar las primeras filas del DataFrame\n",
    "\n",
    "    # Cargar el modelo de Sentence Transformer\n",
    "    model = SentenceTransformer('sentence-transformers/all-MiniLM-L6-v2')\n",
    "\n",
    "    # Crear embeddings para los títulos o descripciones (ajusta la columna según el dataset)\n",
    "    embeddings = model.encode(df['Title'].tolist(), show_progress_bar=True)\n",
    "\n",
    "    # Crear embeddings para la consulta\n",
    "    query_embedding = model.encode(query)\n",
    "\n",
    "    # Calcular la similitud coseno entre la consulta y los embeddings de los títulos\n",
    "    similarities = util.cos_sim(query_embedding, embeddings)\n",
    "\n",
    "    # Agregar la similitud al DataFrame\n",
    "    df['similarity'] = similarities.flatten()\n",
    "\n",
    "    # Ordenar el DataFrame por similitud\n",
    "    df_sorted = df.sort_values(by='similarity', ascending=False)\n",
    "\n",
    "    # Mostrar los 5 resultados más similares\n",
    "    print(\"Resultados más similares:\")\n",
    "    print(df_sorted[['Title', 'similarity']].head())\n",
    "\n",
    "if __name__ == '__main__':\n",
    "    query = input('Ingresa el término de búsqueda: ')\n",
    "    main(query)"
   ]
  }
 ],
 "metadata": {
  "kernelspec": {
   "display_name": "Python 3 (ipykernel)",
   "language": "python",
   "name": "python3"
  },
  "language_info": {
   "codemirror_mode": {
    "name": "ipython",
    "version": 3
   },
   "file_extension": ".py",
   "mimetype": "text/x-python",
   "name": "python",
   "nbconvert_exporter": "python",
   "pygments_lexer": "ipython3",
   "version": "3.12.4"
  }
 },
 "nbformat": 4,
 "nbformat_minor": 5
}
