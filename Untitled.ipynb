{
 "cells": [
  {
   "cell_type": "code",
   "execution_count": 5,
   "id": "20b0cca6-4715-472c-80fc-5c45512eaa7c",
   "metadata": {},
   "outputs": [
    {
     "name": "stdin",
     "output_type": "stream",
     "text": [
      "Ingresa el término de búsqueda:  history\n"
     ]
    },
    {
     "name": "stdout",
     "output_type": "stream",
     "text": [
      "   Unnamed: 0                                              Title Certificate  \\\n",
      "0           0                 1. The Shawshank Redemption (1994)           R   \n",
      "1           1                            2. The Godfather (1972)           R   \n",
      "2           2                          3. The Dark Knight (2008)       PG-13   \n",
      "3           3                   4. The Godfather: Part II (1974)           R   \n",
      "4           4  5. The Lord of the Rings: The Return of the Ki...       PG-13   \n",
      "\n",
      "  Duration                     Genre  Rate  Metascore  \\\n",
      "0  142 min                     Drama   9.3       80.0   \n",
      "1  175 min              Crime, Drama   9.2      100.0   \n",
      "2  152 min      Action, Crime, Drama   9.0       84.0   \n",
      "3  202 min              Crime, Drama   9.0       90.0   \n",
      "4  201 min  Action, Adventure, Drama   8.9       94.0   \n",
      "\n",
      "                                         Description  \\\n",
      "0  Two imprisoned men bond over a number of years...   \n",
      "1  The aging patriarch of an organized crime dyna...   \n",
      "2  When the menace known as the Joker wreaks havo...   \n",
      "3  The early life and career of Vito Corleone in ...   \n",
      "4  Gandalf and Aragorn lead the World of Men agai...   \n",
      "\n",
      "                                                Cast  \\\n",
      "0  Director: Frank Darabont | Stars: Tim Robbins,...   \n",
      "1  Director: Francis Ford Coppola | Stars: Marlon...   \n",
      "2  Director: Christopher Nolan | Stars: Christian...   \n",
      "3  Director: Francis Ford Coppola | Stars: Al Pac...   \n",
      "4  Director: Peter Jackson | Stars: Elijah Wood, ...   \n",
      "\n",
      "                                 Info  \n",
      "0   Votes: 2,295,987 | Gross: $28.34M  \n",
      "1  Votes: 1,584,782 | Gross: $134.97M  \n",
      "2  Votes: 2,260,649 | Gross: $534.86M  \n",
      "3   Votes: 1,107,253 | Gross: $57.30M  \n",
      "4  Votes: 1,614,369 | Gross: $377.85M  \n"
     ]
    },
    {
     "data": {
      "application/vnd.jupyter.widget-view+json": {
       "model_id": "a9cacfcd69e64fc2ad060009c55c1388",
       "version_major": 2,
       "version_minor": 0
      },
      "text/plain": [
       "Batches:   0%|          | 0/32 [00:00<?, ?it/s]"
      ]
     },
     "metadata": {},
     "output_type": "display_data"
    },
    {
     "name": "stdout",
     "output_type": "stream",
     "text": [
      "Resultados más similares:\n",
      "                             Title  similarity\n",
      "39   40. American History X (1998)    0.483165\n",
      "51         52. Modern Times (1936)    0.346922\n",
      "81   82. The Great Dictator (1940)    0.337098\n",
      "73       74. Apocalypse Now (1979)    0.333973\n",
      "770   373. Infernal Affairs (2002)    0.317672\n"
     ]
    }
   ],
   "source": [
    "import pandas as pd\n",
    "from tqdm import tqdm\n",
    "import warnings\n",
    "warnings.simplefilter(action='ignore', category=FutureWarning)\n",
    "\n",
    "from sentence_transformers import SentenceTransformer, util\n",
    "\n",
    "def main(query):\n",
    "    # Cargar el dataset\n",
    "    df = pd.read_csv('./IMDB top 1000.csv')\n",
    "    print(df.head())  # Mostrar las primeras filas del DataFrame\n",
    "\n",
    "    # Cargar el modelo de Sentence Transformer\n",
    "    model = SentenceTransformer('sentence-transformers/all-MiniLM-L6-v2')\n",
    "\n",
    "    # Crear embeddings para los títulos o descripciones (ajusta la columna según el dataset)\n",
    "    embeddings = model.encode(df['Title'].tolist(), show_progress_bar=True)\n",
    "\n",
    "    # Crear embeddings para la consulta\n",
    "    query_embedding = model.encode(query)\n",
    "\n",
    "    # Calcular la similitud coseno entre la consulta y los embeddings de los títulos\n",
    "    similarities = util.cos_sim(query_embedding, embeddings)\n",
    "\n",
    "    # Agregar la similitud al DataFrame\n",
    "    df['similarity'] = similarities.flatten()\n",
    "\n",
    "    # Ordenar el DataFrame por similitud\n",
    "    df_sorted = df.sort_values(by='similarity', ascending=False)\n",
    "\n",
    "    # Mostrar los 5 resultados más similares\n",
    "    print(\"Resultados más similares:\")\n",
    "    print(df_sorted[['Title', 'similarity']].head())\n",
    "\n",
    "if __name__ == '__main__':\n",
    "    query = input('Ingresa el término de búsqueda: ')\n",
    "    main(query)"
   ]
  },
  {
   "cell_type": "code",
   "execution_count": null,
   "id": "10908537-e736-4b1b-a44a-9c298719568e",
   "metadata": {},
   "outputs": [],
   "source": []
  }
 ],
 "metadata": {
  "kernelspec": {
   "display_name": "Python 3 (ipykernel)",
   "language": "python",
   "name": "python3"
  },
  "language_info": {
   "codemirror_mode": {
    "name": "ipython",
    "version": 3
   },
   "file_extension": ".py",
   "mimetype": "text/x-python",
   "name": "python",
   "nbconvert_exporter": "python",
   "pygments_lexer": "ipython3",
   "version": "3.12.4"
  }
 },
 "nbformat": 4,
 "nbformat_minor": 5
}
